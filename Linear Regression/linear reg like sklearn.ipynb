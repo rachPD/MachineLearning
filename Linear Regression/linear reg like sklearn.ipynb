{
 "cells": [
  {
   "cell_type": "code",
   "execution_count": 1,
   "metadata": {},
   "outputs": [],
   "source": [
    "#including libraries"
   ]
  },
  {
   "cell_type": "code",
   "execution_count": 2,
   "metadata": {},
   "outputs": [],
   "source": [
    "import numpy as np\n",
    "from LinRegModule_like_sklearn import LinR as lrm\n",
    "from sklearn.linear_model import LinearRegression"
   ]
  },
  {
   "cell_type": "code",
   "execution_count": 3,
   "metadata": {},
   "outputs": [],
   "source": [
    "#loading file\n",
    "data=np.loadtxt(open('LinearRegressionData.txt',\"rt\"),delimiter=\",\")"
   ]
  },
  {
   "cell_type": "code",
   "execution_count": 4,
   "metadata": {},
   "outputs": [],
   "source": [
    "#object of class LinR\n",
    "train=lrm()"
   ]
  },
  {
   "cell_type": "code",
   "execution_count": 5,
   "metadata": {},
   "outputs": [],
   "source": [
    "X=data[:,:2]\n",
    "Y=data[:,-1:]\n",
    "X = train.normalize(X)"
   ]
  },
  {
   "cell_type": "code",
   "execution_count": 6,
   "metadata": {},
   "outputs": [],
   "source": [
    "#dividing into training data and test data in the ratio 2:1\n",
    "test_len=X.shape[0]//3\n",
    "X_test=X[:test_len,:]\n",
    "X_train=X[test_len:,:]\n",
    "\n",
    "Y_test=Y[:test_len]\n",
    "Y_train=Y[test_len:]\n"
   ]
  },
  {
   "cell_type": "code",
   "execution_count": 7,
   "metadata": {},
   "outputs": [],
   "source": [
    "#training object created \n",
    "train.fitt(X_train,Y_train)"
   ]
  },
  {
   "cell_type": "code",
   "execution_count": 8,
   "metadata": {},
   "outputs": [
    {
     "name": "stdout",
     "output_type": "stream",
     "text": [
      "Accuracy of prediction :  95.09817868850234 %\n"
     ]
    }
   ],
   "source": [
    "#Predicted values of Y for the test data & check accuracy\n",
    "Y_pred = train.predict(X_test)\n",
    "acc = train.accuracy(Y_test,Y_pred)\n",
    "print(\"Accuracy of prediction : \",acc,\"%\")"
   ]
  },
  {
   "cell_type": "code",
   "execution_count": 9,
   "metadata": {},
   "outputs": [
    {
     "name": "stdout",
     "output_type": "stream",
     "text": [
      "accuracy using sklearn =  93.90816216936064 %\n"
     ]
    }
   ],
   "source": [
    "#to check accuracy with sklearn\n",
    "reg_using_sklearn = LinearRegression()\n",
    "reg_using_sklearn.fit(X_train,Y_train)\n",
    "Y_pred=reg_using_sklearn.predict(X_test)\n",
    "Error=(Y_pred-Y_test)*100/Y_test\n",
    "Accuracy=100 - np.mean(Error)\n",
    "print(\"accuracy using sklearn = \",Accuracy,\"%\")"
   ]
  }
 ],
 "metadata": {
  "kernelspec": {
   "display_name": "Python 3",
   "language": "python",
   "name": "python3"
  },
  "language_info": {
   "codemirror_mode": {
    "name": "ipython",
    "version": 3
   },
   "file_extension": ".py",
   "mimetype": "text/x-python",
   "name": "python",
   "nbconvert_exporter": "python",
   "pygments_lexer": "ipython3",
   "version": "3.7.0"
  }
 },
 "nbformat": 4,
 "nbformat_minor": 2
}
